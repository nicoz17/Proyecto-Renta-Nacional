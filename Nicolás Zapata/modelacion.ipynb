{
 "cells": [
  {
   "cell_type": "markdown",
   "id": "da33440c",
   "metadata": {},
   "source": [
    "# Renta Nacional"
   ]
  },
  {
   "cell_type": "markdown",
   "id": "1b99df8e",
   "metadata": {},
   "source": [
    "Se trabaja con BBDD de 2023 y 2024."
   ]
  },
  {
   "cell_type": "markdown",
   "id": "83f5b0b0",
   "metadata": {},
   "source": [
    "## Cruzamos las BBDD"
   ]
  },
  {
   "cell_type": "markdown",
   "id": "5a845d3e",
   "metadata": {},
   "source": [
    "### Cargamos datos de SC_COTIZACIONES de 2023 y 2024"
   ]
  },
  {
   "cell_type": "markdown",
   "id": "6dd07f77",
   "metadata": {},
   "source": [
    "Comenzamos con SC_COTIZACIONES 2024."
   ]
  },
  {
   "cell_type": "code",
   "execution_count": 4,
   "id": "63d4ad15",
   "metadata": {},
   "outputs": [
    {
     "name": "stdout",
     "output_type": "stream",
     "text": [
      "  FECHA_COTIZACION  NUMERO_SOLICITUD  NUMERO_IDENTIFICACION  NUMERO_SECUENCIA  \\\n",
      "0       2024-01-02         125720401              188965131                 1   \n",
      "1       2024-01-02         125720401              188965150                 1   \n",
      "2       2024-01-02         125720401              188965169                 1   \n",
      "3       2024-01-02         125720401              188965188                 1   \n",
      "4       2024-01-02         125747401              188975930                 1   \n",
      "\n",
      "  TIPO_RENTA  MESES_DIFERIDOS MODALIDAD_RENTA  MESES_GARANTIZADOS  \\\n",
      "0          I                0               S                   0   \n",
      "1          I                0               G                 120   \n",
      "2          I                0               G                 192   \n",
      "3          I                0               G                 180   \n",
      "4          I                0               S                   0   \n",
      "\n",
      "   MESES_AUMENTO_TEMPORAL  PORCENTAJE_AUMENTO_TEMPORAL  ...  PRIMA_UNICA  \\\n",
      "0                       0                            0  ...       730.59   \n",
      "1                      12                           50  ...       730.59   \n",
      "2                      18                           50  ...       730.59   \n",
      "3                      24                           50  ...       730.59   \n",
      "4                       0                            0  ...       589.17   \n",
      "\n",
      "   RETENCION_AFP  RETIRO_EXCEDENTES  INVALIDA  TIPO_ERROR  POSICION_RELATIVA  \\\n",
      "0            0.0                0.0         0           0                  2   \n",
      "1            0.0                0.0         0           0                  2   \n",
      "2            0.0                0.0         0           0                  2   \n",
      "3            0.0                0.0         0           0                  2   \n",
      "4            0.0                0.0        -1           2                  0   \n",
      "\n",
      "   SEGMENTO  NOMBRE_SEGMENTO  TIT_PROPUESTA  TIT_MAXIMA  \n",
      "0        72     V 700-800 UF           3.26        3.28  \n",
      "1        71  V 700-800 UF_RT           3.27        3.29  \n",
      "2        71  V 700-800 UF_RT           3.27        3.29  \n",
      "3        71  V 700-800 UF_RT           3.27        3.29  \n",
      "4        70       V 0-700 UF           3.01        3.03  \n",
      "\n",
      "[5 rows x 26 columns]\n"
     ]
    }
   ],
   "source": [
    "import pandas as pd\n",
    "df_sc_2024 = pd.read_excel(\"BBDD/SC_COTIZACIONES.xlsx\")\n",
    "print(df_sc_2024.head())\n",
    "\n",
    "# se guarda en pickle\n",
    "df_sc_2024.to_pickle(\"df_sc_2024.pkl\")"
   ]
  },
  {
   "cell_type": "markdown",
   "id": "70c64be0",
   "metadata": {},
   "source": [
    "Se carga 2023."
   ]
  },
  {
   "cell_type": "code",
   "execution_count": 3,
   "id": "c103f169",
   "metadata": {},
   "outputs": [],
   "source": [
    "import pandas as pd\n",
    "\n",
    "df_sc_2023 = pd.read_pickle(\"df_sc_2023.pkl\")\n",
    "df_sc_2024 = pd.read_pickle(\"df_sc_2024.pkl\")"
   ]
  },
  {
   "cell_type": "markdown",
   "id": "bc6bbe04",
   "metadata": {},
   "source": [
    "Concatenamos las 2:"
   ]
  },
  {
   "cell_type": "code",
   "execution_count": 4,
   "id": "d7e0cfa2",
   "metadata": {},
   "outputs": [],
   "source": [
    "df_sc = pd.concat([df_sc_2023, df_sc_2024], ignore_index=True)"
   ]
  },
  {
   "cell_type": "code",
   "execution_count": 36,
   "id": "87ee00ff",
   "metadata": {},
   "outputs": [],
   "source": [
    "del df_sc_2023\n",
    "del df_sc_2024"
   ]
  },
  {
   "cell_type": "markdown",
   "id": "dcbce541",
   "metadata": {},
   "source": [
    "### Cargamos datos de COTIZACIONES de 2023 y 2024"
   ]
  },
  {
   "cell_type": "markdown",
   "id": "5bb06080",
   "metadata": {},
   "source": [
    "Primero 2024."
   ]
  },
  {
   "cell_type": "code",
   "execution_count": 10,
   "id": "9e6ed9f3",
   "metadata": {},
   "outputs": [
    {
     "name": "stdout",
     "output_type": "stream",
     "text": [
      "  FECHA_COTIZACION TIPO_PENSION TIPO_COTIZACION  COTIZANTE  COTIZACION  \\\n",
      "0       2024-01-02            S               E  421008240           1   \n",
      "1       2024-01-02            S               E  421008240           2   \n",
      "2       2024-01-02            S               E  421008240           3   \n",
      "3       2024-01-02            S               E  421008240           4   \n",
      "4       2024-01-02           VA               E  421005868          11   \n",
      "\n",
      "  TIPO_INTERMEDIARIO RUT_CORREDOR TIPO_RENTA  MESES_DIFERIDOS MODALIDAD_RENTA  \\\n",
      "0                  S   11370691-0          I                0               S   \n",
      "1                  S   11370691-0          I                0               G   \n",
      "2                  S   11370691-0          I                0               G   \n",
      "3                  S   11370691-0          I                0               G   \n",
      "4                  S   13982859-3          I                0               G   \n",
      "\n",
      "   ...        VAN  TASA_VAN  DURATION  DIAS_VALIDEZ  INVALIDA  TIPO_ERROR  \\\n",
      "0  ...  416.83799       3.0   131.224            15      -1.0         7.0   \n",
      "1  ...  412.85752       3.0   130.656            15      -1.0         7.0   \n",
      "2  ...  411.92025       3.0   130.918            15      -1.0         7.0   \n",
      "3  ...  415.70959       3.0   132.257            15      -1.0         7.0   \n",
      "4  ...  253.99395       3.0   108.691            15      -1.0        16.0   \n",
      "\n",
      "   EMITIDA  FECHA_RESPUESTA  ACEPTADA  FECHA_ACEPTACION  \n",
      "0        0              NaT         0               NaT  \n",
      "1        0              NaT         0               NaT  \n",
      "2        0              NaT         0               NaT  \n",
      "3        0              NaT         0               NaT  \n",
      "4        0              NaT         0               NaT  \n",
      "\n",
      "[5 rows x 38 columns]\n"
     ]
    }
   ],
   "source": [
    "import pandas as pd\n",
    "df_2024 = pd.read_excel(\"BBDD/COTIZACIONES.xlsx\")\n",
    "print(df_2024.head())\n",
    "\n",
    "# se guarda en pickle\n",
    "df_2024.to_pickle(\"df_2024.pkl\")"
   ]
  },
  {
   "cell_type": "markdown",
   "id": "7938c0be",
   "metadata": {},
   "source": [
    "Ahora 2023."
   ]
  },
  {
   "cell_type": "code",
   "execution_count": 6,
   "id": "adc19a4e",
   "metadata": {},
   "outputs": [],
   "source": [
    "df_2023 = pd.read_pickle(\"df_2023.pkl\")\n",
    "df_2024 = pd.read_pickle(\"df_2024.pkl\")"
   ]
  },
  {
   "cell_type": "markdown",
   "id": "b586d69e",
   "metadata": {},
   "source": [
    "Concatenamos las 2:"
   ]
  },
  {
   "cell_type": "code",
   "execution_count": 7,
   "id": "5af324e9",
   "metadata": {},
   "outputs": [],
   "source": [
    "df = pd.concat([df_2023, df_2024], ignore_index=True)"
   ]
  },
  {
   "cell_type": "code",
   "execution_count": 8,
   "id": "649d7116",
   "metadata": {},
   "outputs": [],
   "source": [
    "del df_2023\n",
    "del df_2024"
   ]
  },
  {
   "cell_type": "markdown",
   "id": "942d3a86",
   "metadata": {},
   "source": [
    "### Se realiza el cruce con datos 2023 y 2024."
   ]
  },
  {
   "cell_type": "markdown",
   "id": "fd728ae5",
   "metadata": {},
   "source": [
    "Analizamos las columnas para hacer el cruce."
   ]
  },
  {
   "cell_type": "code",
   "execution_count": 9,
   "id": "3901e73f",
   "metadata": {},
   "outputs": [
    {
     "name": "stdout",
     "output_type": "stream",
     "text": [
      "Index(['FECHA_COTIZACION', 'TIPO_PENSION', 'TIPO_COTIZACION', 'COTIZANTE',\n",
      "       'COTIZACION', 'TIPO_INTERMEDIARIO', 'RUT_CORREDOR', 'TIPO_RENTA',\n",
      "       'MESES_DIFERIDOS', 'MODALIDAD_RENTA', 'MESES_GARANTIZADOS',\n",
      "       'PORCENTAJE_AUMENTO_TEMPORAL', 'MESES_AUMENTO_TEMPORAL',\n",
      "       'PORCENTAJE_COMISION', 'RETIRO_EXCEDENTES', 'RETENCION_AFP',\n",
      "       'PRIMA_UNICA', 'TIT', 'TIT_MAXIMA', 'CAPITAL_NECESARIO',\n",
      "       'CUOTA_MORTUORIA', 'RENTA', 'VPP', 'PERDIDA', 'PORCENTAJE_PERDIDA',\n",
      "       'TASA_VENTA', 'TASA_COSTO', 'TIR', 'VAN', 'TASA_VAN', 'DURATION',\n",
      "       'DIAS_VALIDEZ', 'INVALIDA', 'TIPO_ERROR', 'EMITIDA', 'FECHA_RESPUESTA',\n",
      "       'ACEPTADA', 'FECHA_ACEPTACION', 'MES'],\n",
      "      dtype='object')\n",
      "Index(['FECHA_COTIZACION', 'NUMERO_SOLICITUD', 'NUMERO_IDENTIFICACION',\n",
      "       'NUMERO_SECUENCIA', 'TIPO_RENTA', 'MESES_DIFERIDOS', 'MODALIDAD_RENTA',\n",
      "       'MESES_GARANTIZADOS', 'MESES_AUMENTO_TEMPORAL',\n",
      "       'PORCENTAJE_AUMENTO_TEMPORAL', 'RETIRA_EXCEDENTES',\n",
      "       'EXCEDENTE_SOLICITADO', 'PORCENTAJE_COMISION', 'COTIZANTE',\n",
      "       'COTIZACION', 'RENTA', 'PRIMA_UNICA', 'RETENCION_AFP',\n",
      "       'RETIRO_EXCEDENTES', 'INVALIDA', 'TIPO_ERROR', 'POSICION_RELATIVA',\n",
      "       'SEGMENTO', 'NOMBRE_SEGMENTO', 'TIT_PROPUESTA', 'TIT_MAXIMA'],\n",
      "      dtype='object')\n"
     ]
    }
   ],
   "source": [
    "print(df.columns)\n",
    "print(df_sc.columns)"
   ]
  },
  {
   "cell_type": "markdown",
   "id": "914c1db5",
   "metadata": {},
   "source": [
    "Vemos si hay coincidencias."
   ]
  },
  {
   "cell_type": "code",
   "execution_count": 10,
   "id": "9ea79bf0",
   "metadata": {},
   "outputs": [
    {
     "name": "stdout",
     "output_type": "stream",
     "text": [
      "Cotizantes: 2169545\n",
      "Cotizantes SC: 2149692\n"
     ]
    }
   ],
   "source": [
    "print(f\"Cotizantes: {len(df)}\")\n",
    "print(f\"Cotizantes SC: {len(df_sc)}\")"
   ]
  },
  {
   "cell_type": "code",
   "execution_count": 11,
   "id": "c6c3bea4",
   "metadata": {},
   "outputs": [
    {
     "name": "stdout",
     "output_type": "stream",
     "text": [
      "Cotizantes comunes: 2149692\n"
     ]
    }
   ],
   "source": [
    "cotizantes_comunes = pd.merge(df, df_sc, on=['COTIZANTE', 'COTIZACION'], how='inner')\n",
    "print(f\"Cotizantes comunes: {len(cotizantes_comunes)}\")"
   ]
  },
  {
   "cell_type": "markdown",
   "id": "13fb7fe5",
   "metadata": {},
   "source": [
    "Verificamos que el cruce es correcto."
   ]
  },
  {
   "cell_type": "code",
   "execution_count": 12,
   "id": "9a7c4764",
   "metadata": {},
   "outputs": [
    {
     "data": {
      "text/html": [
       "<div>\n",
       "<style scoped>\n",
       "    .dataframe tbody tr th:only-of-type {\n",
       "        vertical-align: middle;\n",
       "    }\n",
       "\n",
       "    .dataframe tbody tr th {\n",
       "        vertical-align: top;\n",
       "    }\n",
       "\n",
       "    .dataframe thead th {\n",
       "        text-align: right;\n",
       "    }\n",
       "</style>\n",
       "<table border=\"1\" class=\"dataframe\">\n",
       "  <thead>\n",
       "    <tr style=\"text-align: right;\">\n",
       "      <th></th>\n",
       "      <th>FECHA_COTIZACION_x</th>\n",
       "      <th>TIPO_PENSION</th>\n",
       "      <th>TIPO_COTIZACION</th>\n",
       "      <th>COTIZANTE</th>\n",
       "      <th>COTIZACION</th>\n",
       "      <th>TIPO_INTERMEDIARIO</th>\n",
       "      <th>RUT_CORREDOR</th>\n",
       "      <th>TIPO_RENTA_x</th>\n",
       "      <th>MESES_DIFERIDOS_x</th>\n",
       "      <th>MODALIDAD_RENTA_x</th>\n",
       "      <th>...</th>\n",
       "      <th>PRIMA_UNICA_y</th>\n",
       "      <th>RETENCION_AFP_y</th>\n",
       "      <th>RETIRO_EXCEDENTES_y</th>\n",
       "      <th>INVALIDA_y</th>\n",
       "      <th>TIPO_ERROR_y</th>\n",
       "      <th>POSICION_RELATIVA</th>\n",
       "      <th>SEGMENTO</th>\n",
       "      <th>NOMBRE_SEGMENTO</th>\n",
       "      <th>TIT_PROPUESTA</th>\n",
       "      <th>TIT_MAXIMA_y</th>\n",
       "    </tr>\n",
       "  </thead>\n",
       "  <tbody>\n",
       "    <tr>\n",
       "      <th>1186763</th>\n",
       "      <td>2024-01-02</td>\n",
       "      <td>V</td>\n",
       "      <td>A</td>\n",
       "      <td>421007881</td>\n",
       "      <td>1</td>\n",
       "      <td>NaN</td>\n",
       "      <td>NaN</td>\n",
       "      <td>I</td>\n",
       "      <td>0</td>\n",
       "      <td>S</td>\n",
       "      <td>...</td>\n",
       "      <td>730.59</td>\n",
       "      <td>0.0</td>\n",
       "      <td>0.0</td>\n",
       "      <td>0</td>\n",
       "      <td>0</td>\n",
       "      <td>2</td>\n",
       "      <td>72</td>\n",
       "      <td>V 700-800 UF</td>\n",
       "      <td>3.26</td>\n",
       "      <td>3.28</td>\n",
       "    </tr>\n",
       "  </tbody>\n",
       "</table>\n",
       "<p>1 rows × 63 columns</p>\n",
       "</div>"
      ],
      "text/plain": [
       "        FECHA_COTIZACION_x TIPO_PENSION TIPO_COTIZACION  COTIZANTE  \\\n",
       "1186763         2024-01-02            V               A  421007881   \n",
       "\n",
       "         COTIZACION TIPO_INTERMEDIARIO RUT_CORREDOR TIPO_RENTA_x  \\\n",
       "1186763           1                NaN          NaN            I   \n",
       "\n",
       "         MESES_DIFERIDOS_x MODALIDAD_RENTA_x  ...  PRIMA_UNICA_y  \\\n",
       "1186763                  0                 S  ...         730.59   \n",
       "\n",
       "         RETENCION_AFP_y  RETIRO_EXCEDENTES_y  INVALIDA_y  TIPO_ERROR_y  \\\n",
       "1186763              0.0                  0.0           0             0   \n",
       "\n",
       "         POSICION_RELATIVA  SEGMENTO  NOMBRE_SEGMENTO  TIT_PROPUESTA  \\\n",
       "1186763                  2        72     V 700-800 UF           3.26   \n",
       "\n",
       "         TIT_MAXIMA_y  \n",
       "1186763          3.28  \n",
       "\n",
       "[1 rows x 63 columns]"
      ]
     },
     "execution_count": 12,
     "metadata": {},
     "output_type": "execute_result"
    }
   ],
   "source": [
    "cotizantes_comunes[(cotizantes_comunes['COTIZANTE'] == 421007881) & (cotizantes_comunes['COTIZACION'] == 1)]"
   ]
  },
  {
   "cell_type": "code",
   "execution_count": 13,
   "id": "77a0a7a4",
   "metadata": {},
   "outputs": [
    {
     "data": {
      "text/html": [
       "<div>\n",
       "<style scoped>\n",
       "    .dataframe tbody tr th:only-of-type {\n",
       "        vertical-align: middle;\n",
       "    }\n",
       "\n",
       "    .dataframe tbody tr th {\n",
       "        vertical-align: top;\n",
       "    }\n",
       "\n",
       "    .dataframe thead th {\n",
       "        text-align: right;\n",
       "    }\n",
       "</style>\n",
       "<table border=\"1\" class=\"dataframe\">\n",
       "  <thead>\n",
       "    <tr style=\"text-align: right;\">\n",
       "      <th></th>\n",
       "      <th>FECHA_COTIZACION</th>\n",
       "      <th>TIPO_PENSION</th>\n",
       "      <th>TIPO_COTIZACION</th>\n",
       "      <th>COTIZANTE</th>\n",
       "      <th>COTIZACION</th>\n",
       "      <th>TIPO_INTERMEDIARIO</th>\n",
       "      <th>RUT_CORREDOR</th>\n",
       "      <th>TIPO_RENTA</th>\n",
       "      <th>MESES_DIFERIDOS</th>\n",
       "      <th>MODALIDAD_RENTA</th>\n",
       "      <th>...</th>\n",
       "      <th>TASA_VAN</th>\n",
       "      <th>DURATION</th>\n",
       "      <th>DIAS_VALIDEZ</th>\n",
       "      <th>INVALIDA</th>\n",
       "      <th>TIPO_ERROR</th>\n",
       "      <th>EMITIDA</th>\n",
       "      <th>FECHA_RESPUESTA</th>\n",
       "      <th>ACEPTADA</th>\n",
       "      <th>FECHA_ACEPTACION</th>\n",
       "      <th>MES</th>\n",
       "    </tr>\n",
       "  </thead>\n",
       "  <tbody>\n",
       "    <tr>\n",
       "      <th>1198140</th>\n",
       "      <td>2024-01-02</td>\n",
       "      <td>V</td>\n",
       "      <td>A</td>\n",
       "      <td>421007881</td>\n",
       "      <td>1</td>\n",
       "      <td>NaN</td>\n",
       "      <td>NaN</td>\n",
       "      <td>I</td>\n",
       "      <td>0</td>\n",
       "      <td>S</td>\n",
       "      <td>...</td>\n",
       "      <td>3.0</td>\n",
       "      <td>113.498</td>\n",
       "      <td>12</td>\n",
       "      <td>0.0</td>\n",
       "      <td>0.0</td>\n",
       "      <td>0</td>\n",
       "      <td>NaT</td>\n",
       "      <td>0</td>\n",
       "      <td>NaT</td>\n",
       "      <td>NaT</td>\n",
       "    </tr>\n",
       "  </tbody>\n",
       "</table>\n",
       "<p>1 rows × 39 columns</p>\n",
       "</div>"
      ],
      "text/plain": [
       "        FECHA_COTIZACION TIPO_PENSION TIPO_COTIZACION  COTIZANTE  COTIZACION  \\\n",
       "1198140       2024-01-02            V               A  421007881           1   \n",
       "\n",
       "        TIPO_INTERMEDIARIO RUT_CORREDOR TIPO_RENTA  MESES_DIFERIDOS  \\\n",
       "1198140                NaN          NaN          I                0   \n",
       "\n",
       "        MODALIDAD_RENTA  ...  TASA_VAN  DURATION  DIAS_VALIDEZ  INVALIDA  \\\n",
       "1198140               S  ...       3.0   113.498            12       0.0   \n",
       "\n",
       "         TIPO_ERROR  EMITIDA  FECHA_RESPUESTA  ACEPTADA  FECHA_ACEPTACION  MES  \n",
       "1198140         0.0        0              NaT         0               NaT  NaT  \n",
       "\n",
       "[1 rows x 39 columns]"
      ]
     },
     "execution_count": 13,
     "metadata": {},
     "output_type": "execute_result"
    }
   ],
   "source": [
    "df[(df['COTIZANTE'] == 421007881) & (df['COTIZACION'] == 1)]"
   ]
  },
  {
   "cell_type": "code",
   "execution_count": 14,
   "id": "11078e59",
   "metadata": {},
   "outputs": [
    {
     "data": {
      "text/html": [
       "<div>\n",
       "<style scoped>\n",
       "    .dataframe tbody tr th:only-of-type {\n",
       "        vertical-align: middle;\n",
       "    }\n",
       "\n",
       "    .dataframe tbody tr th {\n",
       "        vertical-align: top;\n",
       "    }\n",
       "\n",
       "    .dataframe thead th {\n",
       "        text-align: right;\n",
       "    }\n",
       "</style>\n",
       "<table border=\"1\" class=\"dataframe\">\n",
       "  <thead>\n",
       "    <tr style=\"text-align: right;\">\n",
       "      <th></th>\n",
       "      <th>FECHA_COTIZACION</th>\n",
       "      <th>NUMERO_SOLICITUD</th>\n",
       "      <th>NUMERO_IDENTIFICACION</th>\n",
       "      <th>NUMERO_SECUENCIA</th>\n",
       "      <th>TIPO_RENTA</th>\n",
       "      <th>MESES_DIFERIDOS</th>\n",
       "      <th>MODALIDAD_RENTA</th>\n",
       "      <th>MESES_GARANTIZADOS</th>\n",
       "      <th>MESES_AUMENTO_TEMPORAL</th>\n",
       "      <th>PORCENTAJE_AUMENTO_TEMPORAL</th>\n",
       "      <th>...</th>\n",
       "      <th>PRIMA_UNICA</th>\n",
       "      <th>RETENCION_AFP</th>\n",
       "      <th>RETIRO_EXCEDENTES</th>\n",
       "      <th>INVALIDA</th>\n",
       "      <th>TIPO_ERROR</th>\n",
       "      <th>POSICION_RELATIVA</th>\n",
       "      <th>SEGMENTO</th>\n",
       "      <th>NOMBRE_SEGMENTO</th>\n",
       "      <th>TIT_PROPUESTA</th>\n",
       "      <th>TIT_MAXIMA</th>\n",
       "    </tr>\n",
       "  </thead>\n",
       "  <tbody>\n",
       "    <tr>\n",
       "      <th>1186763</th>\n",
       "      <td>2024-01-02</td>\n",
       "      <td>125720401</td>\n",
       "      <td>188965131</td>\n",
       "      <td>1</td>\n",
       "      <td>I</td>\n",
       "      <td>0</td>\n",
       "      <td>S</td>\n",
       "      <td>0</td>\n",
       "      <td>0</td>\n",
       "      <td>0</td>\n",
       "      <td>...</td>\n",
       "      <td>730.59</td>\n",
       "      <td>0.0</td>\n",
       "      <td>0.0</td>\n",
       "      <td>0</td>\n",
       "      <td>0</td>\n",
       "      <td>2</td>\n",
       "      <td>72</td>\n",
       "      <td>V 700-800 UF</td>\n",
       "      <td>3.26</td>\n",
       "      <td>3.28</td>\n",
       "    </tr>\n",
       "  </tbody>\n",
       "</table>\n",
       "<p>1 rows × 26 columns</p>\n",
       "</div>"
      ],
      "text/plain": [
       "        FECHA_COTIZACION  NUMERO_SOLICITUD  NUMERO_IDENTIFICACION  \\\n",
       "1186763       2024-01-02         125720401              188965131   \n",
       "\n",
       "         NUMERO_SECUENCIA TIPO_RENTA  MESES_DIFERIDOS MODALIDAD_RENTA  \\\n",
       "1186763                 1          I                0               S   \n",
       "\n",
       "         MESES_GARANTIZADOS  MESES_AUMENTO_TEMPORAL  \\\n",
       "1186763                   0                       0   \n",
       "\n",
       "         PORCENTAJE_AUMENTO_TEMPORAL  ...  PRIMA_UNICA  RETENCION_AFP  \\\n",
       "1186763                            0  ...       730.59            0.0   \n",
       "\n",
       "         RETIRO_EXCEDENTES  INVALIDA  TIPO_ERROR  POSICION_RELATIVA  SEGMENTO  \\\n",
       "1186763                0.0         0           0                  2        72   \n",
       "\n",
       "         NOMBRE_SEGMENTO  TIT_PROPUESTA  TIT_MAXIMA  \n",
       "1186763     V 700-800 UF           3.26        3.28  \n",
       "\n",
       "[1 rows x 26 columns]"
      ]
     },
     "execution_count": 14,
     "metadata": {},
     "output_type": "execute_result"
    }
   ],
   "source": [
    "df_sc[(df_sc['COTIZANTE'] == 421007881) & (df_sc['COTIZACION'] == 1)]"
   ]
  },
  {
   "cell_type": "markdown",
   "id": "4733bb63",
   "metadata": {},
   "source": [
    "### Eliminamos columnas repetidas."
   ]
  },
  {
   "cell_type": "code",
   "execution_count": 16,
   "id": "d8d98cdc",
   "metadata": {},
   "outputs": [
    {
     "data": {
      "text/plain": [
       "Index(['FECHA_COTIZACION_x', 'TIPO_PENSION', 'TIPO_COTIZACION', 'COTIZANTE',\n",
       "       'COTIZACION', 'TIPO_INTERMEDIARIO', 'RUT_CORREDOR', 'TIPO_RENTA_x',\n",
       "       'MESES_DIFERIDOS_x', 'MODALIDAD_RENTA_x', 'MESES_GARANTIZADOS_x',\n",
       "       'PORCENTAJE_AUMENTO_TEMPORAL_x', 'MESES_AUMENTO_TEMPORAL_x',\n",
       "       'PORCENTAJE_COMISION_x', 'RETIRO_EXCEDENTES_x', 'RETENCION_AFP_x',\n",
       "       'PRIMA_UNICA_x', 'TIT', 'TIT_MAXIMA_x', 'CAPITAL_NECESARIO',\n",
       "       'CUOTA_MORTUORIA', 'RENTA_x', 'VPP', 'PERDIDA', 'PORCENTAJE_PERDIDA',\n",
       "       'TASA_VENTA', 'TASA_COSTO', 'TIR', 'VAN', 'TASA_VAN', 'DURATION',\n",
       "       'DIAS_VALIDEZ', 'INVALIDA_x', 'TIPO_ERROR_x', 'EMITIDA',\n",
       "       'FECHA_RESPUESTA', 'ACEPTADA', 'FECHA_ACEPTACION', 'MES',\n",
       "       'FECHA_COTIZACION_y', 'NUMERO_SOLICITUD', 'NUMERO_IDENTIFICACION',\n",
       "       'NUMERO_SECUENCIA', 'TIPO_RENTA_y', 'MESES_DIFERIDOS_y',\n",
       "       'MODALIDAD_RENTA_y', 'MESES_GARANTIZADOS_y', 'MESES_AUMENTO_TEMPORAL_y',\n",
       "       'PORCENTAJE_AUMENTO_TEMPORAL_y', 'RETIRA_EXCEDENTES',\n",
       "       'EXCEDENTE_SOLICITADO', 'PORCENTAJE_COMISION_y', 'RENTA_y',\n",
       "       'PRIMA_UNICA_y', 'RETENCION_AFP_y', 'RETIRO_EXCEDENTES_y', 'INVALIDA_y',\n",
       "       'TIPO_ERROR_y', 'POSICION_RELATIVA', 'SEGMENTO', 'NOMBRE_SEGMENTO',\n",
       "       'TIT_PROPUESTA', 'TIT_MAXIMA_y'],\n",
       "      dtype='object')"
      ]
     },
     "execution_count": 16,
     "metadata": {},
     "output_type": "execute_result"
    }
   ],
   "source": [
    "cotizantes_comunes.columns"
   ]
  },
  {
   "cell_type": "code",
   "execution_count": 17,
   "id": "5e5775eb",
   "metadata": {},
   "outputs": [
    {
     "data": {
      "text/plain": [
       "1186763    730.59\n",
       "Name: PRIMA_UNICA_x, dtype: float64"
      ]
     },
     "execution_count": 17,
     "metadata": {},
     "output_type": "execute_result"
    }
   ],
   "source": [
    "cotizantes_comunes[(cotizantes_comunes['COTIZANTE'] == 421007881) & (cotizantes_comunes['COTIZACION'] == 1)]['PRIMA_UNICA_x']"
   ]
  },
  {
   "cell_type": "code",
   "execution_count": 19,
   "id": "a7e4578c",
   "metadata": {},
   "outputs": [],
   "source": [
    "cols_renombradas = {}\n",
    "for col in cotizantes_comunes.columns:\n",
    "    if col.endswith('_x'):\n",
    "        nuevo_nombre = col[:-2]  # quitar '_x'\n",
    "        cols_renombradas[col] = nuevo_nombre\n",
    "    elif not col.endswith('_y'):\n",
    "        cols_renombradas[col] = col  # dejar sin cambio\n",
    "\n",
    "\n",
    "df_full = cotizantes_comunes[list(cols_renombradas.keys())].rename(columns=cols_renombradas)\n",
    "df_full.columns\n",
    "del cotizantes_comunes"
   ]
  },
  {
   "cell_type": "markdown",
   "id": "da3527c2",
   "metadata": {},
   "source": [
    "Lo guardamos con pickle."
   ]
  },
  {
   "cell_type": "code",
   "execution_count": 20,
   "id": "f78df355",
   "metadata": {},
   "outputs": [],
   "source": [
    "df_full.to_pickle(\"df_full.pkl\")"
   ]
  },
  {
   "cell_type": "code",
   "execution_count": 29,
   "id": "5f070908",
   "metadata": {},
   "outputs": [
    {
     "data": {
      "text/plain": [
       "Index(['FECHA_COTIZACION', 'TIPO_PENSION', 'TIPO_COTIZACION', 'COTIZANTE',\n",
       "       'COTIZACION', 'TIPO_INTERMEDIARIO', 'RUT_CORREDOR', 'TIPO_RENTA',\n",
       "       'MESES_DIFERIDOS', 'MODALIDAD_RENTA', 'MESES_GARANTIZADOS',\n",
       "       'PORCENTAJE_AUMENTO_TEMPORAL', 'MESES_AUMENTO_TEMPORAL',\n",
       "       'PORCENTAJE_COMISION', 'RETIRO_EXCEDENTES', 'RETENCION_AFP',\n",
       "       'PRIMA_UNICA', 'TIT', 'TIT_MAXIMA', 'CAPITAL_NECESARIO',\n",
       "       'CUOTA_MORTUORIA', 'RENTA', 'VPP', 'PERDIDA', 'PORCENTAJE_PERDIDA',\n",
       "       'TASA_VENTA', 'TASA_COSTO', 'TIR', 'VAN', 'TASA_VAN', 'DURATION',\n",
       "       'DIAS_VALIDEZ', 'INVALIDA', 'TIPO_ERROR', 'EMITIDA', 'FECHA_RESPUESTA',\n",
       "       'ACEPTADA', 'FECHA_ACEPTACION', 'MES', 'NUMERO_SOLICITUD',\n",
       "       'NUMERO_IDENTIFICACION', 'NUMERO_SECUENCIA', 'RETIRA_EXCEDENTES',\n",
       "       'EXCEDENTE_SOLICITADO', 'POSICION_RELATIVA', 'SEGMENTO',\n",
       "       'NOMBRE_SEGMENTO', 'TIT_PROPUESTA'],\n",
       "      dtype='object')"
      ]
     },
     "execution_count": 29,
     "metadata": {},
     "output_type": "execute_result"
    }
   ],
   "source": [
    "df_full.columns"
   ]
  },
  {
   "cell_type": "markdown",
   "id": "95ff743c",
   "metadata": {},
   "source": [
    "## Analizamos los datos."
   ]
  },
  {
   "cell_type": "markdown",
   "id": "2f81f805",
   "metadata": {},
   "source": [
    "Estamos trabajando con la BBDD cruzada cotizandes_comunes."
   ]
  },
  {
   "cell_type": "code",
   "execution_count": 2,
   "id": "c50660b0",
   "metadata": {},
   "outputs": [],
   "source": [
    "import pandas as pd\n",
    "df_full = pd.read_pickle(\"df_full.pkl\")"
   ]
  },
  {
   "cell_type": "markdown",
   "id": "b90c4f1b",
   "metadata": {},
   "source": [
    "### Diagrama Estacionalidad"
   ]
  },
  {
   "cell_type": "code",
   "execution_count": 21,
   "id": "9a0013d1",
   "metadata": {},
   "outputs": [
    {
     "name": "stdout",
     "output_type": "stream",
     "text": [
      "MES\n",
      "2023-01    105045\n",
      "2023-02    100684\n",
      "2023-03    128733\n",
      "2023-04    102015\n",
      "2023-05    108026\n",
      "2023-06     90400\n",
      "2023-07    109324\n",
      "2023-08    108793\n",
      "2023-09     74049\n",
      "2023-10     89114\n",
      "2023-11     90884\n",
      "2023-12     79696\n",
      "2024-01     95845\n",
      "2024-02     90059\n",
      "2024-03     90049\n",
      "2024-04     95697\n",
      "2024-05     77977\n",
      "2024-06     66589\n",
      "2024-07     80888\n",
      "2024-08     75300\n",
      "2024-09     66343\n",
      "2024-10     89036\n",
      "2024-11     70433\n",
      "2024-12     64713\n",
      "Freq: M, Name: count, dtype: int64\n"
     ]
    },
    {
     "data": {
      "image/png": "[encoded data removed]",
      "text/plain": [
       "<Figure size 864x432 with 1 Axes>"
      ]
     },
     "metadata": {
      "needs_background": "light"
     },
     "output_type": "display_data"
    }
   ],
   "source": [
    "df_full[\"FECHA_COTIZACION\"] = pd.to_datetime(df_full[\"FECHA_COTIZACION\"])\n",
    "df_full[\"MES\"] = df_full[\"FECHA_COTIZACION\"].dt.to_period(\"M\")\n",
    "conteo_mensual = df_full[\"MES\"].value_counts().sort_index()\n",
    "print(conteo_mensual)\n",
    "\n",
    "import matplotlib.pyplot as plt\n",
    "\n",
    "conteo_mensual.plot(kind=\"bar\", figsize=(12, 6), color=\"skyblue\")\n",
    "plt.title(\"Cantidad de cotizaciones por mes\")\n",
    "plt.xlabel(\"Mes\")\n",
    "plt.ylabel(\"Cantidad\")\n",
    "plt.xticks(rotation=45)\n",
    "plt.tight_layout()\n",
    "plt.show()"
   ]
  },
  {
   "cell_type": "code",
   "execution_count": 32,
   "id": "803d79fb",
   "metadata": {},
   "outputs": [
    {
     "name": "stdout",
     "output_type": "stream",
     "text": [
      "                    FECHA_COTIZACION  NUMERO_SOLICITUD  NUMERO_IDENTIFICACION  \\\n",
      "count                        1186763      1.186763e+06           1.186763e+06   \n",
      "mean   2023-06-21 14:02:32.492114944      1.202859e+08           1.806261e+08   \n",
      "min              2023-01-03 00:00:00      1.133175e+08           1.724723e+08   \n",
      "25%              2023-03-23 00:00:00      1.173736e+08           1.764978e+08   \n",
      "50%              2023-06-15 00:00:00      1.201892e+08           1.805868e+08   \n",
      "75%              2023-09-14 00:00:00      1.230816e+08           1.847372e+08   \n",
      "max              2023-12-29 00:00:00      1.268027e+08           1.889456e+08   \n",
      "std                              NaN      3.389725e+06           4.759463e+06   \n",
      "\n",
      "       NUMERO_SECUENCIA  MESES_DIFERIDOS  MESES_GARANTIZADOS  \\\n",
      "count      1.186763e+06     1.186763e+06        1.186763e+06   \n",
      "mean       1.412959e+00     1.478987e+01        9.998649e+01   \n",
      "min        1.000000e+00     0.000000e+00        0.000000e+00   \n",
      "25%        1.000000e+00     0.000000e+00        0.000000e+00   \n",
      "50%        1.000000e+00     1.200000e+01        1.200000e+02   \n",
      "75%        2.000000e+00     2.400000e+01        1.800000e+02   \n",
      "max        6.000000e+00     1.200000e+02        3.000000e+02   \n",
      "std        6.762267e-01     1.598098e+01        9.498212e+01   \n",
      "\n",
      "       MESES_AUMENTO_TEMPORAL  PORCENTAJE_AUMENTO_TEMPORAL  RETIRA_EXCEDENTES  \\\n",
      "count            1.186763e+06                 1.186763e+06       1.186763e+06   \n",
      "mean             8.975481e+00                 2.219353e+01      -7.454985e-02   \n",
      "min              0.000000e+00                 0.000000e+00      -1.000000e+00   \n",
      "25%              0.000000e+00                 0.000000e+00       0.000000e+00   \n",
      "50%              0.000000e+00                 0.000000e+00       0.000000e+00   \n",
      "75%              0.000000e+00                 0.000000e+00       0.000000e+00   \n",
      "max              3.600000e+02                 1.000000e+02       0.000000e+00   \n",
      "std              2.363903e+01                 4.097811e+01       2.626637e-01   \n",
      "\n",
      "       EXCEDENTE_SOLICITADO  ...         RENTA   PRIMA_UNICA  RETENCION_AFP  \\\n",
      "count          1.186763e+06  ...  1.186763e+06  1.186763e+06   1.186763e+06   \n",
      "mean           6.779741e+00  ...  1.134382e+01  2.280263e+03   3.159579e+02   \n",
      "min            0.000000e+00  ... -1.000000e-01 -8.600000e+00   0.000000e+00   \n",
      "25%            0.000000e+00  ...  4.180000e+00  8.638800e+02   0.000000e+00   \n",
      "50%            0.000000e+00  ...  7.520000e+00  1.529150e+03   1.168800e+02   \n",
      "75%            0.000000e+00  ...  1.408000e+01  2.876495e+03   3.740000e+02   \n",
      "max            8.860920e+03  ...  1.228640e+03  5.731888e+04   2.029775e+04   \n",
      "std            9.626291e+01  ...  1.144758e+01  2.210173e+03   5.859265e+02   \n",
      "\n",
      "       RETIRO_EXCEDENTES      INVALIDA    TIPO_ERROR  POSICION_RELATIVA  \\\n",
      "count       1.186763e+06  1.186763e+06  1.186763e+06       1.186763e+06   \n",
      "mean        6.024356e+01 -1.704039e-01  1.482011e+00       1.726895e+00   \n",
      "min         0.000000e+00 -1.000000e+00  0.000000e+00       0.000000e+00   \n",
      "25%         0.000000e+00  0.000000e+00  0.000000e+00       0.000000e+00   \n",
      "50%         0.000000e+00  0.000000e+00  0.000000e+00       1.000000e+00   \n",
      "75%         0.000000e+00  0.000000e+00  0.000000e+00       3.000000e+00   \n",
      "max         4.558517e+04  0.000000e+00  2.800000e+01       1.100000e+01   \n",
      "std         6.358079e+02  3.759874e-01  5.422797e+00       1.943091e+00   \n",
      "\n",
      "           SEGMENTO  TIT_PROPUESTA    TIT_MAXIMA  \n",
      "count  1.186763e+06   1.186763e+06  1.186763e+06  \n",
      "mean   3.083802e+01   3.234268e+00  3.254268e+00  \n",
      "min    1.000000e+00   2.990000e+00  3.010000e+00  \n",
      "25%    1.700000e+01   3.180000e+00  3.200000e+00  \n",
      "50%    2.200000e+01   3.250000e+00  3.270000e+00  \n",
      "75%    4.700000e+01   3.300000e+00  3.320000e+00  \n",
      "max    7.200000e+01   3.420000e+00  3.440000e+00  \n",
      "std    1.954360e+01   9.310800e-02  9.310800e-02  \n",
      "\n",
      "[8 rows x 23 columns]\n"
     ]
    }
   ],
   "source": [
    "df_sc_2023 = pd.read_pickle(\"df_sc_2023.pkl\")\n",
    "df_sc_2024 = pd.read_pickle(\"df_sc_2024.pkl\")\n",
    "print(df_sc_2023.describe())"
   ]
  },
  {
   "cell_type": "markdown",
   "id": "4ca77c43",
   "metadata": {},
   "source": [
    "### Diagrama Posición Relativa."
   ]
  },
  {
   "cell_type": "code",
   "execution_count": 22,
   "id": "c8395483",
   "metadata": {},
   "outputs": [
    {
     "name": "stdout",
     "output_type": "stream",
     "text": [
      "POSICION_RELATIVA\n",
      "0     911884\n",
      "1     191397\n",
      "2     345296\n",
      "3     257921\n",
      "4     201316\n",
      "5     129458\n",
      "6      72397\n",
      "7      30725\n",
      "8       8144\n",
      "9       1083\n",
      "10        69\n",
      "11         2\n",
      "Name: count, dtype: int64\n"
     ]
    },
    {
     "data": {
      "image/png": "[encoded data removed]",
      "text/plain": [
       "<Figure size 720x432 with 1 Axes>"
      ]
     },
     "metadata": {},
     "output_type": "display_data"
    }
   ],
   "source": [
    "import matplotlib.pyplot as plt\n",
    "import seaborn as sns\n",
    "\n",
    "# Configurar estilo de seaborn\n",
    "sns.set(style=\"whitegrid\")\n",
    "\n",
    "# Contar las categorías\n",
    "conteo = df_full['POSICION_RELATIVA'].value_counts().sort_index()\n",
    "print(conteo)\n",
    "\n",
    "# Graficar\n",
    "plt.figure(figsize=(10, 6))\n",
    "sns.barplot(x=conteo.index, y=conteo.values, palette='viridis')\n",
    "plt.xlabel('Posición Relativa')\n",
    "plt.ylabel('Conteo')\n",
    "plt.title('Conteo por Categoría: Posición Relativa')\n",
    "plt.xticks(rotation=45)\n",
    "plt.tight_layout()\n",
    "plt.show()\n"
   ]
  },
  {
   "cell_type": "markdown",
   "id": "d7b6793b",
   "metadata": {},
   "source": [
    "### Diagramas Modalidades de Renta"
   ]
  },
  {
   "cell_type": "code",
   "execution_count": 23,
   "id": "52bd6edb",
   "metadata": {},
   "outputs": [
    {
     "data": {
      "image/png": "[encoded data removed]",
      "text/plain": [
       "<Figure size 576x360 with 1 Axes>"
      ]
     },
     "metadata": {},
     "output_type": "display_data"
    },
    {
     "data": {
      "image/png": "[encoded data removed]",
      "text/plain": [
       "<Figure size 576x360 with 1 Axes>"
      ]
     },
     "metadata": {},
     "output_type": "display_data"
    },
    {
     "data": {
      "image/png": "[encoded data removed]",
      "text/plain": [
       "<Figure size 864x432 with 1 Axes>"
      ]
     },
     "metadata": {},
     "output_type": "display_data"
    }
   ],
   "source": [
    "import pandas as pd\n",
    "import matplotlib.pyplot as plt\n",
    "import seaborn as sns\n",
    "\n",
    "# Asegúrate de que 'FECHA_COTIZACION' sea datetime\n",
    "df_full['FECHA_COTIZACION'] = pd.to_datetime(df_full['FECHA_COTIZACION'], errors='coerce')\n",
    "\n",
    "# Crear columna de mes\n",
    "df_full['MES'] = df_full['FECHA_COTIZACION'].dt.to_period('M')\n",
    "\n",
    "# --- Conteo absoluto de TIPO_RENTA ---\n",
    "plt.figure(figsize=(8, 5))\n",
    "sns.countplot(data=df_full, x='TIPO_RENTA', order=df_full['TIPO_RENTA'].value_counts().index)\n",
    "plt.title('Frecuencia de cada TIPO_RENTA')\n",
    "plt.xticks(rotation=45)\n",
    "plt.tight_layout()\n",
    "plt.show()\n",
    "\n",
    "# --- Conteo absoluto de MODALIDAD_RENTA ---\n",
    "plt.figure(figsize=(8, 5))\n",
    "sns.countplot(data=df_full, x='MODALIDAD_RENTA', order=df_full['MODALIDAD_RENTA'].value_counts().index)\n",
    "plt.title('Frecuencia de cada MODALIDAD_RENTA')\n",
    "plt.xticks(rotation=45)\n",
    "plt.tight_layout()\n",
    "plt.show()\n",
    "\n",
    "# --- Evolución mensual de TIPO_RENTA ---\n",
    "tipo_renta_mes = df_full.groupby(['MES', 'TIPO_RENTA']).size().unstack(fill_value=0)\n",
    "\n",
    "tipo_renta_mes.plot(figsize=(12, 6))\n",
    "plt.title('Evolución mensual de TIPO_RENTA')\n",
    "plt.xlabel('Mes')\n",
    "plt.ylabel('Cantidad de Cotizaciones')\n",
    "plt.tight_layout()\n",
    "plt.show()\n"
   ]
  },
  {
   "cell_type": "markdown",
   "id": "d4fc07cf",
   "metadata": {},
   "source": [
    "### Matriz de Correlación"
   ]
  },
  {
   "cell_type": "code",
   "execution_count": 27,
   "id": "a00fa1d1",
   "metadata": {},
   "outputs": [
    {
     "data": {
      "image/png": "[encoded data removed]",
      "text/plain": [
       "<Figure size 864x576 with 2 Axes>"
      ]
     },
     "metadata": {},
     "output_type": "display_data"
    },
    {
     "name": "stdout",
     "output_type": "stream",
     "text": [
      "ACEPTADA                       1.000000\n",
      "MESES_DIFERIDOS                0.023692\n",
      "COTIZACION                     0.021702\n",
      "DURATION                       0.018692\n",
      "TIR                            0.018358\n",
      "NUMERO_SECUENCIA               0.017570\n",
      "RETENCION_AFP                  0.014631\n",
      "RENTA                          0.011894\n",
      "VAN                            0.011584\n",
      "PRIMA_UNICA                    0.010182\n",
      "VPP                            0.010087\n",
      "TIPO_ERROR                     0.008614\n",
      "CUOTA_MORTUORIA                0.005372\n",
      "PERDIDA                        0.004360\n",
      "RETIRO_EXCEDENTES              0.002104\n",
      "POSICION_RELATIVA              0.002026\n",
      "EXCEDENTE_SOLICITADO           0.001996\n",
      "NUMERO_IDENTIFICACION          0.001749\n",
      "NUMERO_SOLICITUD               0.001630\n",
      "COTIZANTE                      0.001519\n",
      "TASA_COSTO                     0.001506\n",
      "EMITIDA                       -0.000073\n",
      "DIAS_VALIDEZ                  -0.001653\n",
      "TASA_VENTA                    -0.004170\n",
      "PORCENTAJE_PERDIDA            -0.004201\n",
      "MESES_GARANTIZADOS            -0.004827\n",
      "PORCENTAJE_COMISION           -0.007036\n",
      "RETIRA_EXCEDENTES             -0.007359\n",
      "SEGMENTO                      -0.008025\n",
      "TIT_MAXIMA                    -0.008727\n",
      "TIT_PROPUESTA                 -0.008727\n",
      "TIT                           -0.008825\n",
      "INVALIDA                      -0.014366\n",
      "MESES_AUMENTO_TEMPORAL        -0.015193\n",
      "CAPITAL_NECESARIO             -0.019957\n",
      "PORCENTAJE_AUMENTO_TEMPORAL   -0.030447\n",
      "TASA_VAN                            NaN\n",
      "Name: ACEPTADA, dtype: float64\n"
     ]
    }
   ],
   "source": [
    "import seaborn as sns\n",
    "import matplotlib.pyplot as plt\n",
    "\n",
    "# Seleccionamos solo las columnas numéricas para calcular la correlación\n",
    "df_numeric = df_full.select_dtypes(include=['number'])\n",
    "\n",
    "# Calcular la matriz de correlación\n",
    "corr_matrix = df_numeric.corr()\n",
    "\n",
    "# Crear un mapa de calor sin los valores numéricos\n",
    "plt.figure(figsize=(12, 8))\n",
    "sns.heatmap(corr_matrix, annot=False, cmap='coolwarm', vmin=-1, vmax=1, linewidths=0.5)\n",
    "plt.title('Matriz de Correlación')\n",
    "plt.tight_layout()\n",
    "plt.show()\n",
    "\n",
    "# Calcular la correlación de todas las columnas con 'ACEPTADA'\n",
    "corr_aceptada = df_numeric.corr()['ACEPTADA'].sort_values(ascending=False)\n",
    "\n",
    "# Mostrar la correlación con 'ACEPTADA'\n",
    "print(corr_aceptada)"
   ]
  },
  {
   "cell_type": "markdown",
   "id": "692d2dd2",
   "metadata": {},
   "source": [
    "### Analizamos cuántas cotizaciones se venden"
   ]
  },
  {
   "cell_type": "code",
   "execution_count": 33,
   "id": "2b2714c6",
   "metadata": {},
   "outputs": [
    {
     "name": "stdout",
     "output_type": "stream",
     "text": [
      "ACEPTADA\n",
      " 0    2147669\n",
      "-1       2023\n",
      "Name: count, dtype: int64\n"
     ]
    }
   ],
   "source": [
    "print(df_full['ACEPTADA'].value_counts(dropna=False))"
   ]
  },
  {
   "cell_type": "markdown",
   "id": "c0245992",
   "metadata": {},
   "source": [
    "Ventas en UF:"
   ]
  },
  {
   "cell_type": "code",
   "execution_count": 25,
   "id": "d6f5c704",
   "metadata": {},
   "outputs": [
    {
     "name": "stdout",
     "output_type": "stream",
     "text": [
      "Ventas totales en UF: 3,117,415.08 UF\n"
     ]
    }
   ],
   "source": [
    "ventas_totales = df_full.loc[df_full['ACEPTADA'] == -1, 'PRIMA_UNICA'].sum()\n",
    "print(f\"Ventas totales en UF: {ventas_totales:,.2f} UF\")"
   ]
  },
  {
   "cell_type": "code",
   "execution_count": 26,
   "id": "46250761",
   "metadata": {},
   "outputs": [
    {
     "name": "stdout",
     "output_type": "stream",
     "text": [
      "Ventas totales en pesos chilenos: $121,834,816,157\n",
      "Ventas totales en dólares: US$128,517,739\n"
     ]
    }
   ],
   "source": [
    "valor_uf = 39082 # 01/05\n",
    "ventas_totales_pesos = ventas_totales * valor_uf\n",
    "print(f\"Ventas totales en pesos chilenos: ${ventas_totales_pesos:,.0f}\")\n",
    "\n",
    "tipo_cambio = 948  # 01/04\n",
    "ventas_en_dolares = ventas_totales_pesos / tipo_cambio\n",
    "print(f\"Ventas totales en dólares: US${ventas_en_dolares:,.0f}\")"
   ]
  },
  {
   "cell_type": "markdown",
   "id": "97d13975",
   "metadata": {},
   "source": [
    "## Modelos Predictivos."
   ]
  },
  {
   "cell_type": "code",
   "execution_count": 1,
   "id": "9f38f87f",
   "metadata": {},
   "outputs": [],
   "source": [
    "import pandas as pd\n",
    "df_full = pd.read_pickle(\"df_full.pkl\")\n",
    "df_sc_2024 = pd.read_pickle(\"df_sc_2024.pkl\")"
   ]
  },
  {
   "cell_type": "markdown",
   "id": "6308b935",
   "metadata": {},
   "source": [
    "### Predicción Ranking con SC_Cotizaciones."
   ]
  },
  {
   "cell_type": "markdown",
   "id": "96ab3525",
   "metadata": {},
   "source": [
    "#### Regresión logística"
   ]
  },
  {
   "cell_type": "code",
   "execution_count": 6,
   "id": "d526844c",
   "metadata": {},
   "outputs": [
    {
     "name": "stderr",
     "output_type": "stream",
     "text": [
      "c:\\Users\\nicol\\AppData\\Local\\Programs\\Python\\Python310\\lib\\site-packages\\sklearn\\linear_model\\_logistic.py:1247: FutureWarning: 'multi_class' was deprecated in version 1.5 and will be removed in 1.7. From then on, it will always use 'multinomial'. Leave it to its default value to avoid this warning.\n",
      "  warnings.warn(\n",
      "c:\\Users\\nicol\\AppData\\Local\\Programs\\Python\\Python310\\lib\\site-packages\\sklearn\\linear_model\\_logistic.py:465: ConvergenceWarning: lbfgs failed to converge (status=1):\n",
      "STOP: TOTAL NO. of ITERATIONS REACHED LIMIT.\n",
      "\n",
      "Increase the number of iterations (max_iter) or scale the data as shown in:\n",
      "    https://scikit-learn.org/stable/modules/preprocessing.html\n",
      "Please also refer to the documentation for alternative solver options:\n",
      "    https://scikit-learn.org/stable/modules/linear_model.html#logistic-regression\n",
      "  n_iter_i = _check_optimize_result(\n"
     ]
    },
    {
     "name": "stdout",
     "output_type": "stream",
     "text": [
      "              precision    recall  f1-score   support\n",
      "\n",
      "           0       0.30      0.00      0.00      8283\n",
      "           1       0.11      0.12      0.11      1638\n",
      "           2       0.17      0.28      0.21      3117\n",
      "           3       0.15      0.03      0.04      2522\n",
      "           4       0.07      0.00      0.00      2135\n",
      "           5       0.00      0.00      0.00      1248\n",
      "           6       0.02      0.00      0.01       681\n",
      "           7       0.02      0.36      0.03       288\n",
      "           8       0.01      0.11      0.02        72\n",
      "           9       0.00      0.00      0.00        15\n",
      "          10       0.00      0.00      0.00         1\n",
      "\n",
      "    accuracy                           0.06     20000\n",
      "   macro avg       0.08      0.08      0.04     20000\n",
      "weighted avg       0.19      0.06      0.05     20000\n",
      "\n"
     ]
    }
   ],
   "source": [
    "import pandas as pd\n",
    "from sklearn.linear_model import LogisticRegression\n",
    "from sklearn.model_selection import train_test_split\n",
    "from sklearn.metrics import classification_report\n",
    "from sklearn.impute import SimpleImputer\n",
    "\n",
    "# --- Paso 1: Preparación de datos ---\n",
    "\n",
    "# 1.1 Muestra de 500.000 filas\n",
    "df_sample = df_sc_2024.sample(n=100000, random_state=42).copy()\n",
    "\n",
    "# 1.2 Conversión de columnas numéricas con comas\n",
    "cols_to_convert = [\n",
    "    \"COTIZACION\", \"RENTA\", \"PRIMA_UNICA\", \n",
    "    \"RETENCION_AFP\", \"RETIRO_EXCEDENTES\", \n",
    "    \"TIT_PROPUESTA\", \"TIT_MAXIMA\", \n",
    "    \"PORCENTAJE_COMISION\"\n",
    "]\n",
    "\n",
    "for col in cols_to_convert:\n",
    "    df_sample[col] = df_sample[col].astype(str).str.replace(',', '.', regex=False).astype(float)\n",
    "\n",
    "# 1.3 Codificación de variables categóricas\n",
    "categorical_cols = [\"TIPO_RENTA\", \"MODALIDAD_RENTA\", \"SEGMENTO\", \"NOMBRE_SEGMENTO\"]\n",
    "df_sample[categorical_cols] = df_sample[categorical_cols].astype(\"category\")\n",
    "\n",
    "# One-hot encoding\n",
    "df_encoded = pd.get_dummies(df_sample, columns=categorical_cols)\n",
    "\n",
    "# 1.4 Features (X) y etiqueta (y)\n",
    "X = df_encoded.drop(columns=[\"POSICION_RELATIVA\", \"FECHA_COTIZACION\"])\n",
    "y = df_sample[\"POSICION_RELATIVA\"].astype(int)\n",
    "\n",
    "# Guardar índice original antes de imputar\n",
    "X[\"index_original\"] = df_sample.index\n",
    "\n",
    "# Imputación de NaN con la media\n",
    "imputer = SimpleImputer(strategy=\"mean\")\n",
    "X_imputed_data = pd.DataFrame(imputer.fit_transform(X.drop(columns=[\"index_original\"])), columns=X.columns[:-1])\n",
    "X_imputed_data.index = X[\"index_original\"].values\n",
    "X_imputed = X_imputed_data.copy()\n",
    "\n",
    "# --- Paso 1.5: Filtrar clases con al menos 2 observaciones ---\n",
    "conteo_clases = y.value_counts()\n",
    "clases_validas = conteo_clases[conteo_clases >= 2].index\n",
    "mask_validas = y.isin(clases_validas)\n",
    "\n",
    "X_imputed = X_imputed.loc[mask_validas]\n",
    "y = y.loc[mask_validas]\n",
    "\n",
    "# --- Paso 2: Modelo de Regresión Logística ---\n",
    "\n",
    "X_train, X_test, y_train, y_test = train_test_split(\n",
    "    X_imputed,\n",
    "    y,\n",
    "    test_size=0.2,\n",
    "    stratify=y,\n",
    "    random_state=42\n",
    ")\n",
    "\n",
    "index_test = X_test.index\n",
    "\n",
    "clf = LogisticRegression(\n",
    "    max_iter=1000,\n",
    "    multi_class=\"multinomial\",\n",
    "    solver=\"lbfgs\",\n",
    "    class_weight=\"balanced\",\n",
    "    random_state=42\n",
    ")\n",
    "clf.fit(X_train, y_train)\n",
    "\n",
    "y_pred = clf.predict(X_test)\n",
    "print(classification_report(y_test, y_pred))\n",
    "\n",
    "# --- Paso 3: Exportar predicciones simples ---\n",
    "\n",
    "resultados_df = pd.DataFrame({\n",
    "    \"index_original\": index_test.values,\n",
    "    \"prediccion\": y_pred,\n",
    "    \"real\": y_test.values\n",
    "})\n",
    "\n",
    "original_test_data = df_sample.loc[resultados_df[\"index_original\"].values]\n",
    "resultados_finales = pd.concat([original_test_data.reset_index(drop=True), resultados_df.reset_index(drop=True)], axis=1)\n",
    "\n",
    "resultados_finales.to_csv(\"predicciones_logistic_regression.csv\", index=False)\n"
   ]
  },
  {
   "cell_type": "markdown",
   "id": "d845691f",
   "metadata": {},
   "source": [
    "#### Random Forest"
   ]
  },
  {
   "cell_type": "code",
   "execution_count": 2,
   "id": "736f7e3d",
   "metadata": {},
   "outputs": [
    {
     "name": "stderr",
     "output_type": "stream",
     "text": [
      "c:\\Users\\nicol\\AppData\\Local\\Programs\\Python\\Python310\\lib\\site-packages\\sklearn\\metrics\\_classification.py:1565: UndefinedMetricWarning: Precision is ill-defined and being set to 0.0 in labels with no predicted samples. Use `zero_division` parameter to control this behavior.\n",
      "  _warn_prf(average, modifier, f\"{metric.capitalize()} is\", len(result))\n",
      "c:\\Users\\nicol\\AppData\\Local\\Programs\\Python\\Python310\\lib\\site-packages\\sklearn\\metrics\\_classification.py:1565: UndefinedMetricWarning: Precision is ill-defined and being set to 0.0 in labels with no predicted samples. Use `zero_division` parameter to control this behavior.\n",
      "  _warn_prf(average, modifier, f\"{metric.capitalize()} is\", len(result))\n",
      "c:\\Users\\nicol\\AppData\\Local\\Programs\\Python\\Python310\\lib\\site-packages\\sklearn\\metrics\\_classification.py:1565: UndefinedMetricWarning: Precision is ill-defined and being set to 0.0 in labels with no predicted samples. Use `zero_division` parameter to control this behavior.\n",
      "  _warn_prf(average, modifier, f\"{metric.capitalize()} is\", len(result))\n"
     ]
    },
    {
     "name": "stdout",
     "output_type": "stream",
     "text": [
      "              precision    recall  f1-score   support\n",
      "\n",
      "           0       0.99      0.99      0.99     41379\n",
      "           1       0.62      0.64      0.63      8162\n",
      "           2       0.61      0.68      0.64     15369\n",
      "           3       0.51      0.49      0.50     12720\n",
      "           4       0.54      0.53      0.53     10895\n",
      "           5       0.48      0.44      0.46      6265\n",
      "           6       0.47      0.43      0.45      3352\n",
      "           7       0.50      0.41      0.45      1422\n",
      "           8       0.48      0.32      0.38       365\n",
      "           9       0.46      0.28      0.35        69\n",
      "          10       0.00      0.00      0.00         2\n",
      "\n",
      "    accuracy                           0.74    100000\n",
      "   macro avg       0.52      0.47      0.49    100000\n",
      "weighted avg       0.73      0.74      0.73    100000\n",
      "\n"
     ]
    }
   ],
   "source": [
    "import pandas as pd\n",
    "from sklearn.ensemble import RandomForestClassifier\n",
    "from sklearn.model_selection import train_test_split\n",
    "from sklearn.metrics import classification_report\n",
    "from sklearn.impute import SimpleImputer\n",
    "\n",
    "# --- Paso 1: Preparación de datos ---\n",
    "\n",
    "# 1.1 Muestra de 100.000 filas\n",
    "df_sample = df_sc_2024.sample(n=500000, random_state=42).copy()\n",
    "\n",
    "# 1.2 Conversión de columnas numéricas con comas\n",
    "cols_to_convert = [\n",
    "    \"COTIZACION\", \"RENTA\", \"PRIMA_UNICA\", \n",
    "    \"RETENCION_AFP\", \"RETIRO_EXCEDENTES\", \n",
    "    \"TIT_PROPUESTA\", \"TIT_MAXIMA\", \n",
    "    \"PORCENTAJE_COMISION\"\n",
    "]\n",
    "\n",
    "for col in cols_to_convert:\n",
    "    df_sample[col] = df_sample[col].astype(str).str.replace(',', '.', regex=False).astype(float)\n",
    "\n",
    "# 1.3 Codificación de variables categóricas\n",
    "categorical_cols = [\"TIPO_RENTA\", \"MODALIDAD_RENTA\", \"SEGMENTO\", \"NOMBRE_SEGMENTO\"]\n",
    "df_sample[categorical_cols] = df_sample[categorical_cols].astype(\"category\")\n",
    "\n",
    "# One-hot encoding\n",
    "df_encoded = pd.get_dummies(df_sample, columns=categorical_cols)\n",
    "\n",
    "# 1.4 Features (X) y etiqueta (y)\n",
    "X = df_encoded.drop(columns=[\"POSICION_RELATIVA\", \"FECHA_COTIZACION\"])\n",
    "y = df_sample[\"POSICION_RELATIVA\"].astype(int)\n",
    "\n",
    "# Guardar índice original antes de imputar\n",
    "X[\"index_original\"] = df_sample.index\n",
    "\n",
    "# Imputación de NaN con la media\n",
    "imputer = SimpleImputer(strategy=\"mean\")\n",
    "X_imputed_data = pd.DataFrame(imputer.fit_transform(X.drop(columns=[\"index_original\"])), columns=X.columns[:-1])\n",
    "X_imputed_data.index = X[\"index_original\"].values  # Asignar índice original para alineación\n",
    "X_imputed = X_imputed_data.copy()\n",
    "\n",
    "# --- Paso 1.5: Filtrar clases con al menos 2 observaciones ---\n",
    "conteo_clases = y.value_counts()\n",
    "clases_validas = conteo_clases[conteo_clases >= 2].index\n",
    "mask_validas = y.isin(clases_validas)\n",
    "\n",
    "# Aplicar filtro\n",
    "X_imputed = X_imputed.loc[mask_validas]\n",
    "y = y.loc[mask_validas]\n",
    "\n",
    "# --- Paso 2: Modelo de Random Forest ---\n",
    "\n",
    "# 2.1 División en entrenamiento y prueba\n",
    "X_train, X_test, y_train, y_test = train_test_split(\n",
    "    X_imputed,\n",
    "    y,\n",
    "    test_size=0.2,\n",
    "    stratify=y,\n",
    "    random_state=42\n",
    ")\n",
    "\n",
    "index_test = X_test.index\n",
    "\n",
    "# 2.2 Entrenamiento\n",
    "clf = RandomForestClassifier(\n",
    "    n_estimators=100,\n",
    "    max_depth=None,\n",
    "    random_state=42,\n",
    "    class_weight=\"balanced\"\n",
    ")\n",
    "clf.fit(X_train, y_train)\n",
    "\n",
    "# 2.3 Evaluación\n",
    "y_pred = clf.predict(X_test)\n",
    "print(classification_report(y_test, y_pred))\n",
    "\n",
    "# --- Paso 3: Resultados y exportación ---\n",
    "\n",
    "# 3.1 Probabilidades por clase\n",
    "y_prob = clf.predict_proba(X_test)\n",
    "prob_df = pd.DataFrame(y_prob, columns=[f\"proba_pos_{cls}\" for cls in clf.classes_])\n",
    "prob_df[\"prediccion\"] = y_pred\n",
    "prob_df[\"real\"] = y_test.values\n",
    "prob_df[\"index_original\"] = index_test.values\n",
    "\n",
    "# 3.2 Agregar columnas originales para análisis\n",
    "original_test_data = df_sample.loc[prob_df[\"index_original\"].values]\n",
    "resultados_finales = pd.concat([original_test_data.reset_index(drop=True), prob_df.reset_index(drop=True)], axis=1)\n",
    "\n",
    "# 3.3 Guardar CSV\n",
    "resultados_finales.to_csv(\"predicciones_random_forest.csv\", index=False)\n"
   ]
  },
  {
   "cell_type": "code",
   "execution_count": 18,
   "id": "9a3bec6b",
   "metadata": {},
   "outputs": [
    {
     "data": {
      "text/html": [
       "<div>\n",
       "<style scoped>\n",
       "    .dataframe tbody tr th:only-of-type {\n",
       "        vertical-align: middle;\n",
       "    }\n",
       "\n",
       "    .dataframe tbody tr th {\n",
       "        vertical-align: top;\n",
       "    }\n",
       "\n",
       "    .dataframe thead th {\n",
       "        text-align: right;\n",
       "    }\n",
       "</style>\n",
       "<table border=\"1\" class=\"dataframe\">\n",
       "  <thead>\n",
       "    <tr style=\"text-align: right;\">\n",
       "      <th></th>\n",
       "      <th>FECHA_COTIZACION</th>\n",
       "      <th>NUMERO_SOLICITUD</th>\n",
       "      <th>NUMERO_IDENTIFICACION</th>\n",
       "      <th>NUMERO_SECUENCIA</th>\n",
       "      <th>TIPO_RENTA</th>\n",
       "      <th>MESES_DIFERIDOS</th>\n",
       "      <th>MODALIDAD_RENTA</th>\n",
       "      <th>MESES_GARANTIZADOS</th>\n",
       "      <th>MESES_AUMENTO_TEMPORAL</th>\n",
       "      <th>PORCENTAJE_AUMENTO_TEMPORAL</th>\n",
       "      <th>...</th>\n",
       "      <th>proba_pos_4</th>\n",
       "      <th>proba_pos_5</th>\n",
       "      <th>proba_pos_6</th>\n",
       "      <th>proba_pos_7</th>\n",
       "      <th>proba_pos_8</th>\n",
       "      <th>proba_pos_9</th>\n",
       "      <th>proba_pos_10</th>\n",
       "      <th>prediccion</th>\n",
       "      <th>real</th>\n",
       "      <th>index_original</th>\n",
       "    </tr>\n",
       "  </thead>\n",
       "  <tbody>\n",
       "    <tr>\n",
       "      <th>0</th>\n",
       "      <td>2024-06-13</td>\n",
       "      <td>132262802</td>\n",
       "      <td>195825026</td>\n",
       "      <td>1</td>\n",
       "      <td>I</td>\n",
       "      <td>0</td>\n",
       "      <td>G</td>\n",
       "      <td>240</td>\n",
       "      <td>84</td>\n",
       "      <td>100</td>\n",
       "      <td>...</td>\n",
       "      <td>0.57</td>\n",
       "      <td>0.07</td>\n",
       "      <td>0.01</td>\n",
       "      <td>0.0</td>\n",
       "      <td>0.01</td>\n",
       "      <td>0.0</td>\n",
       "      <td>0.0</td>\n",
       "      <td>4</td>\n",
       "      <td>3</td>\n",
       "      <td>480659</td>\n",
       "    </tr>\n",
       "    <tr>\n",
       "      <th>1</th>\n",
       "      <td>2024-12-02</td>\n",
       "      <td>137464902</td>\n",
       "      <td>201885839</td>\n",
       "      <td>2</td>\n",
       "      <td>D</td>\n",
       "      <td>60</td>\n",
       "      <td>S</td>\n",
       "      <td>0</td>\n",
       "      <td>0</td>\n",
       "      <td>0</td>\n",
       "      <td>...</td>\n",
       "      <td>0.00</td>\n",
       "      <td>0.00</td>\n",
       "      <td>0.00</td>\n",
       "      <td>0.0</td>\n",
       "      <td>0.00</td>\n",
       "      <td>0.0</td>\n",
       "      <td>0.0</td>\n",
       "      <td>0</td>\n",
       "      <td>0</td>\n",
       "      <td>898908</td>\n",
       "    </tr>\n",
       "    <tr>\n",
       "      <th>2</th>\n",
       "      <td>2024-04-29</td>\n",
       "      <td>130793601</td>\n",
       "      <td>194128904</td>\n",
       "      <td>1</td>\n",
       "      <td>I</td>\n",
       "      <td>0</td>\n",
       "      <td>S</td>\n",
       "      <td>0</td>\n",
       "      <td>0</td>\n",
       "      <td>0</td>\n",
       "      <td>...</td>\n",
       "      <td>0.04</td>\n",
       "      <td>0.04</td>\n",
       "      <td>0.18</td>\n",
       "      <td>0.0</td>\n",
       "      <td>0.00</td>\n",
       "      <td>0.0</td>\n",
       "      <td>0.0</td>\n",
       "      <td>2</td>\n",
       "      <td>2</td>\n",
       "      <td>365176</td>\n",
       "    </tr>\n",
       "    <tr>\n",
       "      <th>3</th>\n",
       "      <td>2024-12-31</td>\n",
       "      <td>138286601</td>\n",
       "      <td>202793343</td>\n",
       "      <td>1</td>\n",
       "      <td>I</td>\n",
       "      <td>0</td>\n",
       "      <td>S</td>\n",
       "      <td>0</td>\n",
       "      <td>36</td>\n",
       "      <td>100</td>\n",
       "      <td>...</td>\n",
       "      <td>0.10</td>\n",
       "      <td>0.01</td>\n",
       "      <td>0.01</td>\n",
       "      <td>0.0</td>\n",
       "      <td>0.00</td>\n",
       "      <td>0.0</td>\n",
       "      <td>0.0</td>\n",
       "      <td>3</td>\n",
       "      <td>3</td>\n",
       "      <td>960341</td>\n",
       "    </tr>\n",
       "    <tr>\n",
       "      <th>4</th>\n",
       "      <td>2024-08-30</td>\n",
       "      <td>134861201</td>\n",
       "      <td>198568233</td>\n",
       "      <td>1</td>\n",
       "      <td>I</td>\n",
       "      <td>0</td>\n",
       "      <td>G</td>\n",
       "      <td>180</td>\n",
       "      <td>0</td>\n",
       "      <td>0</td>\n",
       "      <td>...</td>\n",
       "      <td>0.17</td>\n",
       "      <td>0.00</td>\n",
       "      <td>0.00</td>\n",
       "      <td>0.0</td>\n",
       "      <td>0.00</td>\n",
       "      <td>0.0</td>\n",
       "      <td>0.0</td>\n",
       "      <td>3</td>\n",
       "      <td>5</td>\n",
       "      <td>672365</td>\n",
       "    </tr>\n",
       "  </tbody>\n",
       "</table>\n",
       "<p>5 rows × 40 columns</p>\n",
       "</div>"
      ],
      "text/plain": [
       "  FECHA_COTIZACION  NUMERO_SOLICITUD  NUMERO_IDENTIFICACION  NUMERO_SECUENCIA  \\\n",
       "0       2024-06-13         132262802              195825026                 1   \n",
       "1       2024-12-02         137464902              201885839                 2   \n",
       "2       2024-04-29         130793601              194128904                 1   \n",
       "3       2024-12-31         138286601              202793343                 1   \n",
       "4       2024-08-30         134861201              198568233                 1   \n",
       "\n",
       "  TIPO_RENTA  MESES_DIFERIDOS MODALIDAD_RENTA  MESES_GARANTIZADOS  \\\n",
       "0          I                0               G                 240   \n",
       "1          D               60               S                   0   \n",
       "2          I                0               S                   0   \n",
       "3          I                0               S                   0   \n",
       "4          I                0               G                 180   \n",
       "\n",
       "   MESES_AUMENTO_TEMPORAL  PORCENTAJE_AUMENTO_TEMPORAL  ...  proba_pos_4  \\\n",
       "0                      84                          100  ...         0.57   \n",
       "1                       0                            0  ...         0.00   \n",
       "2                       0                            0  ...         0.04   \n",
       "3                      36                          100  ...         0.10   \n",
       "4                       0                            0  ...         0.17   \n",
       "\n",
       "   proba_pos_5  proba_pos_6  proba_pos_7  proba_pos_8  proba_pos_9  \\\n",
       "0         0.07         0.01          0.0         0.01          0.0   \n",
       "1         0.00         0.00          0.0         0.00          0.0   \n",
       "2         0.04         0.18          0.0         0.00          0.0   \n",
       "3         0.01         0.01          0.0         0.00          0.0   \n",
       "4         0.00         0.00          0.0         0.00          0.0   \n",
       "\n",
       "   proba_pos_10  prediccion  real  index_original  \n",
       "0           0.0           4     3          480659  \n",
       "1           0.0           0     0          898908  \n",
       "2           0.0           2     2          365176  \n",
       "3           0.0           3     3          960341  \n",
       "4           0.0           3     5          672365  \n",
       "\n",
       "[5 rows x 40 columns]"
      ]
     },
     "execution_count": 18,
     "metadata": {},
     "output_type": "execute_result"
    }
   ],
   "source": [
    "resultados_finales.head()"
   ]
  },
  {
   "cell_type": "markdown",
   "id": "b8e82d19",
   "metadata": {},
   "source": [
    "### Predicción Probabilidad Venta con df_full"
   ]
  },
  {
   "cell_type": "code",
   "execution_count": 6,
   "id": "1fe91dd8",
   "metadata": {},
   "outputs": [
    {
     "name": "stdout",
     "output_type": "stream",
     "text": [
      "ACEPTADA\n",
      " 0    962087\n",
      "-1       842\n",
      "Name: count, dtype: int64\n"
     ]
    }
   ],
   "source": [
    "print(df_full['ACEPTADA'].value_counts(dropna=False))"
   ]
  },
  {
   "cell_type": "code",
   "execution_count": 43,
   "id": "59c53bcc",
   "metadata": {},
   "outputs": [
    {
     "name": "stdout",
     "output_type": "stream",
     "text": [
      "Classification Report:\n",
      "              precision    recall  f1-score   support\n",
      "\n",
      "           0       0.86      0.75      0.80    644178\n",
      "           1       0.78      0.88      0.83    644424\n",
      "\n",
      "    accuracy                           0.81   1288602\n",
      "   macro avg       0.82      0.81      0.81   1288602\n",
      "weighted avg       0.82      0.81      0.81   1288602\n",
      "\n",
      "AUC: 0.874\n"
     ]
    }
   ],
   "source": [
    "import pandas as pd\n",
    "from sklearn.linear_model import LogisticRegression\n",
    "from sklearn.model_selection import train_test_split\n",
    "from sklearn.metrics import classification_report, roc_auc_score\n",
    "from sklearn.preprocessing import StandardScaler\n",
    "from imblearn.over_sampling import SMOTE\n",
    "\n",
    "# 1. Crear copia y limpiar datos\n",
    "df_model = df_full.copy() \n",
    "\n",
    "# 2. Filtrar target y convertirlo a 1 (aceptada) y 0 (no aceptada)\n",
    "df_model = df_model[df_model['ACEPTADA'].isin([-1, 0])].copy()\n",
    "df_model['TARGET'] = (df_model['ACEPTADA'] == -1).astype(int)\n",
    "\n",
    "# 3. Seleccionar columnas numéricas\n",
    "X = df_model.select_dtypes(include='number').drop(columns=['ACEPTADA', 'TARGET'])\n",
    "\n",
    "# 4. Eliminar columnas con NaN o demasiados ceros (opcional)\n",
    "X = X.dropna(axis=1)\n",
    "y = df_model['TARGET']\n",
    "\n",
    "# 5. Escalar los datos\n",
    "scaler = StandardScaler()\n",
    "X_scaled = scaler.fit_transform(X)\n",
    "\n",
    "# 6. Aplicar SMOTE\n",
    "smote = SMOTE(random_state=42)\n",
    "X_resampled, y_resampled = smote.fit_resample(X_scaled, y)\n",
    "\n",
    "# 7. Dividir en train/test\n",
    "X_train, X_test, y_train, y_test = train_test_split(X_resampled, y_resampled, test_size=0.3, random_state=42)\n",
    "\n",
    "# 8. Ajustar modelo con pesos balanceados\n",
    "model = LogisticRegression(max_iter=1000)\n",
    "model.fit(X_train, y_train)\n",
    "\n",
    "# 9. Predicciones y evaluación\n",
    "y_pred = model.predict(X_test)\n",
    "y_proba = model.predict_proba(X_test)[:, 1]\n",
    "\n",
    "print(\"Classification Report:\")\n",
    "print(classification_report(y_test, y_pred))\n",
    "print(f\"AUC: {roc_auc_score(y_test, y_proba):.3f}\")\n",
    "\n"
   ]
  },
  {
   "cell_type": "code",
   "execution_count": 44,
   "id": "a43e1359",
   "metadata": {},
   "outputs": [
    {
     "name": "stdout",
     "output_type": "stream",
     "text": [
      "                        feature  coefficient\n",
      "15             NUMERO_SECUENCIA    -4.246171\n",
      "0                     COTIZANTE     3.329715\n",
      "13             NUMERO_SOLICITUD    -1.946513\n",
      "14        NUMERO_IDENTIFICACION    -1.288008\n",
      "16            RETIRA_EXCEDENTES    -1.274101\n",
      "18            POSICION_RELATIVA    -0.995853\n",
      "1                    COTIZACION    -0.741218\n",
      "8                   PRIMA_UNICA    -0.652336\n",
      "2               MESES_DIFERIDOS    -0.573956\n",
      "4   PORCENTAJE_AUMENTO_TEMPORAL     0.520431\n",
      "10                          TIR    -0.464243\n",
      "19                     SEGMENTO    -0.214133\n",
      "7             RETIRO_EXCEDENTES     0.142840\n",
      "6           PORCENTAJE_COMISION    -0.130506\n",
      "3            MESES_GARANTIZADOS    -0.115962\n"
     ]
    },
    {
     "data": {
      "image/png": "[encoded data removed]",
      "text/plain": [
       "<Figure size 720x432 with 1 Axes>"
      ]
     },
     "metadata": {},
     "output_type": "display_data"
    }
   ],
   "source": [
    "import numpy as np\n",
    "import pandas as pd\n",
    "import matplotlib.pyplot as plt\n",
    "\n",
    "# Recuperar nombres de las variables\n",
    "feature_names = X.columns  # sin escalar\n",
    "\n",
    "# Obtener los coeficientes\n",
    "coefs = model.coef_[0]\n",
    "\n",
    "# Crear DataFrame con nombre y valor del coeficiente\n",
    "coef_df = pd.DataFrame({\n",
    "    'feature': feature_names,\n",
    "    'coefficient': coefs,\n",
    "    'abs_coefficient': np.abs(coefs)\n",
    "})\n",
    "\n",
    "# Ordenar por el valor absoluto del coeficiente\n",
    "coef_df_sorted = coef_df.sort_values(by='abs_coefficient', ascending=False)\n",
    "\n",
    "# Mostrar las 15 variables más importantes\n",
    "print(coef_df_sorted[['feature', 'coefficient']].head(15))\n",
    "\n",
    "# (Opcional) Visualización\n",
    "plt.figure(figsize=(10, 6))\n",
    "plt.barh(coef_df_sorted['feature'][:15], coef_df_sorted['coefficient'][:15])\n",
    "plt.gca().invert_yaxis()\n",
    "plt.title(\"Top 15 Variables más importantes (Regresión Logística)\")\n",
    "plt.xlabel(\"Coeficiente\")\n",
    "plt.tight_layout()\n",
    "plt.show()\n"
   ]
  },
  {
   "cell_type": "code",
   "execution_count": 8,
   "id": "4f21ab07",
   "metadata": {},
   "outputs": [
    {
     "data": {
      "text/plain": [
       "No Aceptada    739004\n",
       "Aceptada       223925\n",
       "Name: count, dtype: int64"
      ]
     },
     "execution_count": 8,
     "metadata": {},
     "output_type": "execute_result"
    }
   ],
   "source": [
    "y_pred_full = model.predict(X_scaled)\n",
    "pd.Series(y_pred_full).value_counts().rename(index={0: 'No Aceptada', 1: 'Aceptada'})"
   ]
  },
  {
   "cell_type": "markdown",
   "id": "efd4add8",
   "metadata": {},
   "source": [
    "El modelo está rechazando todas las cotizaciones. Puede deberse a la gran asimetría de cantidad de datos entre las clases. EN la BBDD completa hay 842 cotizaciones ACEPTADAS y 962087 NO ACEPTADAS."
   ]
  },
  {
   "cell_type": "markdown",
   "id": "e1a2d2d3",
   "metadata": {},
   "source": [
    "### Predicción de Ventas Totales con Modelo."
   ]
  },
  {
   "cell_type": "code",
   "execution_count": 10,
   "id": "524e162f",
   "metadata": {},
   "outputs": [
    {
     "name": "stdout",
     "output_type": "stream",
     "text": [
      "Prima total estimada (solo predicciones aceptadas): 337306317.65 UF\n",
      "Prima total estimada (en dólares): 13660905864.82 USD\n"
     ]
    }
   ],
   "source": [
    "# Volver a predecir sobre todos los datos (por ejemplo, en X_scaled)\n",
    "y_pred_full = model.predict(X_scaled)\n",
    "\n",
    "# Agregar las predicciones al DataFrame original\n",
    "df_model['PREDICHA'] = y_pred_full\n",
    "\n",
    "# Sumar PRIMA_UNICA donde la predicción sea 1 (es decir, aceptación)\n",
    "prima_total_uf = df_model.loc[df_model['PREDICHA'] == 1, 'PRIMA_UNICA'].sum()\n",
    "\n",
    "print(f\"Prima total estimada (solo predicciones aceptadas): {prima_total_uf:.2f} UF\")\n",
    "\n",
    "\n",
    "uf_to_usd = 40.5\n",
    "\n",
    "# Convertir la prima total de UF a dólares\n",
    "prima_total_usd = prima_total_uf * uf_to_usd\n",
    "print(f\"Prima total estimada (en dólares): {prima_total_usd:.2f} USD\")\n"
   ]
  },
  {
   "cell_type": "markdown",
   "id": "a55dd884",
   "metadata": {},
   "source": [
    "### Predicción de Ventas Totales con XGBoost."
   ]
  },
  {
   "cell_type": "code",
   "execution_count": 11,
   "id": "c6bc724c",
   "metadata": {},
   "outputs": [
    {
     "name": "stdout",
     "output_type": "stream",
     "text": [
      "Reporte de Clasificación:\n",
      "              precision    recall  f1-score   support\n",
      "\n",
      "           0       1.00      0.96      0.98    192413\n",
      "           1       0.01      0.29      0.01       173\n",
      "\n",
      "    accuracy                           0.96    192586\n",
      "   macro avg       0.50      0.63      0.50    192586\n",
      "weighted avg       1.00      0.96      0.98    192586\n",
      "\n",
      "Precisión: 0.96\n",
      "Precision: 0.91\n",
      "Reporte de Clasificación Ajustado:\n",
      "              precision    recall  f1-score   support\n",
      "\n",
      "           0       1.00      0.91      0.95    192413\n",
      "           1       0.01      0.51      0.01       173\n",
      "\n",
      "    accuracy                           0.91    192586\n",
      "   macro avg       0.50      0.71      0.48    192586\n",
      "weighted avg       1.00      0.91      0.95    192586\n",
      "\n"
     ]
    }
   ],
   "source": [
    "from xgboost import XGBClassifier\n",
    "from sklearn.model_selection import train_test_split\n",
    "\n",
    "# Separar en entrenamiento y prueba\n",
    "X_train, X_test, y_train, y_test = train_test_split(X_scaled, y, test_size=0.2, random_state=42)\n",
    "\n",
    "# Ajuste de pesos de clase en XGBoost (aumento de peso en la clase minoritaria)\n",
    "# Se calcula un valor aproximado de scale_pos_weight basado en el desbalance de clases\n",
    "scale_pos_weight = (len(y_train) - sum(y_train == 1)) / sum(y_train == 1)\n",
    "\n",
    "# Definir el modelo XGBoost con ajuste de pesos\n",
    "model_xgb = XGBClassifier(scale_pos_weight=scale_pos_weight, use_label_encoder=False, eval_metric='logloss')\n",
    "\n",
    "# Entrenar el modelo\n",
    "model_xgb.fit(X_train, y_train)\n",
    "\n",
    "# Predicción\n",
    "y_pred_xgb = model_xgb.predict(X_test)\n",
    "\n",
    "# Evaluar el modelo\n",
    "from sklearn.metrics import classification_report, accuracy_score\n",
    "\n",
    "print(\"Reporte de Clasificación:\")\n",
    "print(classification_report(y_test, y_pred_xgb))\n",
    "print(f\"Precisión: {accuracy_score(y_test, y_pred_xgb):.2f}\")\n",
    "\n",
    "# Obtener las probabilidades para ajustar el umbral si lo deseas\n",
    "y_proba_xgb = model_xgb.predict_proba(X_test)[:, 1]\n",
    "\n",
    "# Ajustar el umbral de decisión para XGBoost\n",
    "umbral_xgb = 0.2  # Puedes probar diferentes umbrales\n",
    "y_pred_xgb_ajustado = (y_proba_xgb > umbral_xgb).astype(int)\n",
    "\n",
    "# Evaluar las métricas con el nuevo umbral\n",
    "print(f\"Precision: {accuracy_score(y_test, y_pred_xgb_ajustado):.2f}\")\n",
    "print(\"Reporte de Clasificación Ajustado:\")\n",
    "print(classification_report(y_test, y_pred_xgb_ajustado))"
   ]
  },
  {
   "cell_type": "code",
   "execution_count": 13,
   "id": "68300ed7",
   "metadata": {},
   "outputs": [
    {
     "data": {
      "text/plain": [
       "No Aceptada    926489\n",
       "Aceptada        36440\n",
       "Name: count, dtype: int64"
      ]
     },
     "execution_count": 13,
     "metadata": {},
     "output_type": "execute_result"
    }
   ],
   "source": [
    "# Predecir sobre todos los datos (por ejemplo, en X_scaled)\n",
    "y_pred_full_xgb = model_xgb.predict(X_scaled)\n",
    "\n",
    "# Ver la distribución de las predicciones (0: No Aceptada, 1: Aceptada)\n",
    "pd.Series(y_pred_full_xgb).value_counts().rename(index={0: 'No Aceptada', 1: 'Aceptada'})"
   ]
  },
  {
   "cell_type": "code",
   "execution_count": 14,
   "id": "d4bc1b74",
   "metadata": {},
   "outputs": [
    {
     "name": "stdout",
     "output_type": "stream",
     "text": [
      "Prima total estimada (solo predicciones aceptadas, XGBoost): 49458207.53 UF\n",
      "Prima total estimada (en dólares, XGBoost): 2003057404.96 USD\n"
     ]
    }
   ],
   "source": [
    "# Agregar las predicciones al DataFrame original\n",
    "df_model['PREDICHA_XGB'] = y_pred_full_xgb\n",
    "\n",
    "# Sumar PRIMA_UNICA donde la predicción sea 1 (es decir, aceptación)\n",
    "prima_total_uf_xgb = df_model.loc[df_model['PREDICHA_XGB'] == 1, 'PRIMA_UNICA'].sum()\n",
    "\n",
    "print(f\"Prima total estimada (solo predicciones aceptadas, XGBoost): {prima_total_uf_xgb:.2f} UF\")\n",
    "\n",
    "# Definir la tasa de conversión de UF a USD\n",
    "uf_to_usd = 40.5\n",
    "\n",
    "# Convertir la prima total de UF a dólares\n",
    "prima_total_usd_xgb = prima_total_uf_xgb * uf_to_usd\n",
    "print(f\"Prima total estimada (en dólares, XGBoost): {prima_total_usd_xgb:.2f} USD\")"
   ]
  }
 ],
 "metadata": {
  "kernelspec": {
   "display_name": "Python 3",
   "language": "python",
   "name": "python3"
  },
  "language_info": {
   "codemirror_mode": {
    "name": "ipython",
    "version": 3
   },
   "file_extension": ".py",
   "mimetype": "text/x-python",
   "name": "python",
   "nbconvert_exporter": "python",
   "pygments_lexer": "ipython3",
   "version": "3.10.6"
  }
 },
 "nbformat": 4,
 "nbformat_minor": 5
}
